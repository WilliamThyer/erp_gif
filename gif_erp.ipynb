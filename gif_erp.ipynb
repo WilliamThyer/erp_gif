{
 "metadata": {
  "language_info": {
   "codemirror_mode": {
    "name": "ipython",
    "version": 3
   },
   "file_extension": ".py",
   "mimetype": "text/x-python",
   "name": "python",
   "nbconvert_exporter": "python",
   "pygments_lexer": "ipython3",
   "version": "3.7.6-final"
  },
  "orig_nbformat": 2,
  "kernelspec": {
   "name": "python3",
   "display_name": "Python 3.7.6 64-bit ('ml_testing': conda)",
   "metadata": {
    "interpreter": {
     "hash": "f472d4c9066fe85577118a3d46f605e815330d908a2ad5b4056fd2915f79681a"
    }
   }
  }
 },
 "nbformat": 4,
 "nbformat_minor": 2,
 "cells": [
  {
   "cell_type": "code",
   "execution_count": 2,
   "metadata": {},
   "outputs": [],
   "source": [
    "import numpy as np\n",
    "from scipy import interpolate\n",
    "import matplotlib.pyplot as plt\n",
    "from matplotlib import animation\n",
    "import matplotlib.image as mpimg\n",
    "\n",
    "np.random.seed(42)\n",
    "%load_ext autoreload\n",
    "%autoreload 2"
   ]
  },
  {
   "source": [
    "# loading and unpacking erp data"
   ],
   "cell_type": "markdown",
   "metadata": {}
  },
  {
   "cell_type": "code",
   "execution_count": 3,
   "metadata": {},
   "outputs": [],
   "source": [
    "erp_data = np.load('erp.npz')\n",
    "erp=erp_data['erp']\n",
    "timepoints=erp_data['timepoints']\n",
    "chan_locs_x=erp_data['chan_locs_x']\n",
    "chan_locs_y=erp_data['chan_locs_y']\n",
    "conditions = erp_data['conditions']"
   ]
  },
  {
   "source": [
    "# functions"
   ],
   "cell_type": "markdown",
   "metadata": {}
  },
  {
   "cell_type": "code",
   "execution_count": 9,
   "metadata": {},
   "outputs": [],
   "source": [
    "def create_frame(i_timepoint, erp, task_image_map, timepoints, chan_locs_x, chan_locs_y):\n",
    "    \"\"\"\n",
    "    i_timepoint (int): frame of data\n",
    "    erp (np.array): erp data. Has shape [timepoints, electrodes]\n",
    "    task_images (np.array(str)): maps task images directories to timing\n",
    "    timepoints (list): timepoints for trial\n",
    "    chan_locs_x (list): x-coordinates for EEG electrodes\n",
    "    chan_locs_y (list): y-coordinates for EEG electrodes\n",
    "    \"\"\"\n",
    "    plt.clf()\n",
    "    # create grid for interpolation\n",
    "    grid_x, grid_y = np.mgrid[-1:1:1000j, -1:1:2000j]\n",
    "    # grab single timepoint\n",
    "    erp_timepoint = erp[:,i_timepoint]\n",
    "    # interpolate data across scalp\n",
    "    interp = interpolate.griddata((chan_locs_y, chan_locs_x),erp_timepoint,(grid_x,grid_y),method='cubic')\n",
    "\n",
    "    # load task image\n",
    "    img = mpimg.imread(task_image_map[i_timepoint])\n",
    "\n",
    "    # plotting \n",
    "    fig, ax = plt.subplots(2)\n",
    "    ax[0].axis('off')\n",
    "    ax[1].axis('off')\n",
    "\n",
    "    ax[0].imshow(img)\n",
    "    ax[1].imshow(interp.T, extent=(0,1,0,1), cmap='coolwarm',vmin=-1,vmax=1)\n",
    "    ax[1].invert_yaxis() #to make EEG 'head' face the screen"
   ]
  },
  {
   "cell_type": "code",
   "execution_count": 12,
   "metadata": {},
   "outputs": [],
   "source": [
    "def create_task_image_map(task_images,task_image_timing):\n",
    "    image_idx = 0\n",
    "    task_map = np.empty(timepoints.shape,dtype='object')\n",
    "    for itime,time in enumerate(timepoints):\n",
    "        if image_idx < len(task_image_timing)-1:\n",
    "            if time >= task_image_timing[image_idx+1]:\n",
    "                image_idx +=1\n",
    "        task_map[itime] = task_images[image_idx]\n",
    "    return task_map"
   ]
  },
  {
   "source": [
    "# creating gif"
   ],
   "cell_type": "markdown",
   "metadata": {}
  },
  {
   "cell_type": "code",
   "execution_count": null,
   "metadata": {},
   "outputs": [],
   "source": []
  },
  {
   "source": [
    "# showing individual function calls"
   ],
   "cell_type": "markdown",
   "metadata": {}
  },
  {
   "cell_type": "code",
   "execution_count": null,
   "metadata": {},
   "outputs": [],
   "source": [
    "task_images = np.array(['images/blank.png','images/array.png','images/blank.png'])\n",
    "task_image_timing = [-200,0,250]\n",
    "\n",
    "task_image_map = create_task_image_map(task_images,task_image_timing)\n",
    "img = mpimg.imread(task_image_map[100])\n",
    "plt.imshow(img)"
   ]
  },
  {
   "cell_type": "code",
   "execution_count": 199,
   "metadata": {},
   "outputs": [
    {
     "output_type": "display_data",
     "data": {
      "text/plain": "<Figure size 432x288 with 0 Axes>"
     },
     "metadata": {}
    },
    {
     "output_type": "display_data",
     "data": {
      "text/plain": "<Figure size 432x288 with 2 Axes>",
      "image/svg+xml": "<?xml version=\"1.0\" encoding=\"utf-8\" standalone=\"no\"?>\r\n<!DOCTYPE svg PUBLIC \"-//W3C//DTD SVG 1.1//EN\"\r\n  \"http://www.w3.org/Graphics/SVG/1.1/DTD/svg11.dtd\">\r\n<!-- Created with matplotlib (https://matplotlib.org/) -->\r\n<svg height=\"231.84pt\" version=\"1.1\" viewBox=\"0 0 113.236364 231.84\" width=\"113.236364pt\" xmlns=\"http://www.w3.org/2000/svg\" xmlns:xlink=\"http://www.w3.org/1999/xlink\">\r\n <metadata>\r\n  <rdf:RDF xmlns:cc=\"http://creativecommons.org/ns#\" xmlns:dc=\"http://purl.org/dc/elements/1.1/\" xmlns:rdf=\"http://www.w3.org/1999/02/22-rdf-syntax-ns#\">\r\n   <cc:Work>\r\n    <dc:type rdf:resource=\"http://purl.org/dc/dcmitype/StillImage\"/>\r\n    <dc:date>2021-03-19T19:54:18.652005</dc:date>\r\n    <dc:format>image/svg+xml</dc:format>\r\n    <dc:creator>\r\n     <cc:Agent>\r\n      <dc:title>Matplotlib v3.3.4, https://matplotlib.org/</dc:title>\r\n     </cc:Agent>\r\n    </dc:creator>\r\n   </cc:Work>\r\n  </rdf:RDF>\r\n </metadata>\r\n <defs>\r\n  <style type=\"text/css\">*{stroke-linecap:butt;stroke-linejoin:round;}</style>\r\n </defs>\r\n <g id=\"figure_1\">\r\n  <g id=\"patch_1\">\r\n   <path d=\"M 0 231.84 \r\nL 113.236364 231.84 \r\nL 113.236364 0 \r\nL 0 0 \r\nz\r\n\" style=\"fill:none;\"/>\r\n  </g>\r\n  <g id=\"axes_1\">\r\n   <g clip-path=\"url(#p1e9b1b7570)\">\r\n    <image height=\"99\" id=\"image38b1f49ffb\" transform=\"scale(1 -1)translate(0 -99)\" width=\"99\" x=\"7.2\" xlink:href=\"data:image/png;base64,\r\niVBORw0KGgoAAAANSUhEUgAAAGMAAABjCAYAAACPO76VAAABrElEQVR4nO3cMYrCYBRF4ZsxGkQLG0lh515cu9sQsbKwTyD+U0wxC1D4T/R8K7hweO1r+r4vi8UiqqeUkt1ul7brupxOpzRNU3vT13o8Hjmfz2lXq1X2+70xKmuaJj+1R+ifMUCMAWIMEGOAGAPEGCDGADEGiDFAjAFiDBBjgBgDxBggxgAxBogxQIwBYgwQY4AYA8QYIMYAMQaIMUCMAWIMEGOAGAPEGCDGADEGiDFAjAFiDBBjgBgDxBggxgAxBogxQIwBYgyQ2ccopWSaptoz3mLWMUopGYYh1+s1pZSUUmpPesmsY4zjmMvlktvtlvv9XnvOy9raA17RdV2Ox2M2m036vq8952WzvowkWS6XORwOtWe8xawvI/n7YPYpX+RmfxmfxBggxgAxBogxQIwBYgwQY4AYA8QYIMYAMQaIMUCMAWIMEGOAGAPEGCDGADEGiDFAjAFiDBBjgBgDxBggxgAxBogxQIwBYgwQY4AYA8QYIMYAMQaIMUCMAWIMEGOAGAPEGCDGADEGSPt8PjMMw8c8Q5mjcRyTJE3btmW73Vae892macp6vc4vZes5eJxH93cAAAAASUVORK5CYII=\" y=\"-7.036364\"/>\r\n   </g>\r\n  </g>\r\n  <g id=\"axes_2\">\r\n   <g clip-path=\"url(#p5f4fb645a7)\">\r\n    <image height=\"99\" id=\"imagea02814ae37\" transform=\"scale(1 -1)translate(0 -99)\" width=\"99\" x=\"7.2\" xlink:href=\"data:image/png;base64,\r\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\" y=\"-125.64\"/>\r\n   </g>\r\n  </g>\r\n </g>\r\n <defs>\r\n  <clipPath id=\"p1e9b1b7570\">\r\n   <rect height=\"98.836364\" width=\"98.836364\" x=\"7.2\" y=\"7.2\"/>\r\n  </clipPath>\r\n  <clipPath id=\"p5f4fb645a7\">\r\n   <rect height=\"98.836364\" width=\"98.836364\" x=\"7.2\" y=\"125.803636\"/>\r\n  </clipPath>\r\n </defs>\r\n</svg>\r\n",
      "image/png": "[encoded data removed]"
     },
     "metadata": {
      "needs_background": "light"
     }
    }
   ],
   "source": [
    "create_frame(i_timepoint=400, erp=erp[0], task_image=img, timepoints=timepoints, chan_locs_x=chan_locs_x, chan_locs_y=chan_locs_y)"
   ]
  }
 ]
}